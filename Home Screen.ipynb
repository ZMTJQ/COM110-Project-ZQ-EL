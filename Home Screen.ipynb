{
 "cells": [
  {
   "cell_type": "code",
   "execution_count": null,
   "id": "8212cca7-3515-4250-932e-baccd1572ec6",
   "metadata": {
    "tags": []
   },
   "outputs": [
    {
     "name": "stderr",
     "output_type": "stream",
     "text": [
      "2023-12-07 11:17:29.623 python[44849:1692743] Warning: Expected min height of view: (<NSPopoverTouchBarItemButton: 0x7fabfaf318a0>) to be less than or equal to 30 but got a height of 32.000000. This error will be logged once per view in violation.\n",
      "2023-12-07 11:17:29.624 python[44849:1692743] Warning: Expected min height of view: (<NSButton: 0x7fabfa96f580>) to be less than or equal to 30 but got a height of 32.000000. This error will be logged once per view in violation.\n",
      "2023-12-07 11:17:29.627 python[44849:1692743] Warning: Expected min height of view: (<NSPopoverTouchBarItemButton: 0x7fabfa975a50>) to be less than or equal to 30 but got a height of 32.000000. This error will be logged once per view in violation.\n",
      "2023-12-07 11:17:29.628 python[44849:1692743] Warning: Expected min height of view: (<NSPopoverTouchBarItemButton: 0x7fabfa987940>) to be less than or equal to 30 but got a height of 32.000000. This error will be logged once per view in violation.\n"
     ]
    }
   ],
   "source": [
    "\"\"\"\n",
    "Example code showing how to create a button,\n",
    "and the three ways to process button events.\n",
    "\"\"\"\n",
    "import arcade\n",
    "import arcade.gui\n",
    "\n",
    "\n",
    "# --- Method 1 for handling click events,\n",
    "# Create a child class.\n",
    "class QuitButton(arcade.gui.UIFlatButton):\n",
    "    def on_click(self, event: arcade.gui.UIOnClickEvent):\n",
    "        arcade.exit()\n",
    "\n",
    "\n",
    "class MyWindow(arcade.Window):\n",
    "    def __init__(self):\n",
    "        super().__init__(800, 600, \"UIFlatButton Example\", resizable=True)\n",
    "\n",
    "        # --- Required for all code that uses UI element,\n",
    "        # a UIManager to handle the UI.\n",
    "        self.manager = arcade.gui.UIManager()\n",
    "        self.manager.enable()\n",
    "        self.buttonlist = []\n",
    "        # Set background color\n",
    "        arcade.set_background_color(arcade.color.DARK_BLUE_GRAY)\n",
    "\n",
    "        # Create a vertical BoxGroup to align buttons\n",
    "        self.v_box = arcade.gui.UIBoxLayout()\n",
    "\n",
    "        # Create the buttons\n",
    "        start_button = arcade.gui.UIFlatButton(text=\"Start Game\", width=200)\n",
    "        self.buttonlist.append(start_button)\n",
    "        self.v_box.add(self.buttonlist[0].with_space_around(bottom=20))\n",
    "        \n",
    "\n",
    "        settings_button = arcade.gui.UIFlatButton(text=\"Settings\", width=200)\n",
    "       # self.v_box.add(settings_button.with_space_around(bottom=20))\n",
    "       # self.buttonlist.append(settings_button)\n",
    "        # Again, method 1. Use a child class to handle events.\n",
    "        quit_button = QuitButton(text=\"Quit\", width=200)\n",
    "       # self.v_box.add(quit_button)\n",
    "       # self.buttonlist.append(quit_button)\n",
    "\n",
    "        # --- Method 2 for handling click events,\n",
    "        # assign self.on_click_start as callback\n",
    "        start_button.on_click = self.on_click_start\n",
    "\n",
    "        # --- Method 3 for handling click events,\n",
    "        # use a decorator to handle on_click events\n",
    "        @settings_button.event(\"on_click\")\n",
    "        def on_click_settings(event):\n",
    "            print(\"Settings:\", event)\n",
    "\n",
    "        # Create a widget to hold the v_box widget, that will center the buttons\n",
    "        self.manager.add(\n",
    "            arcade.gui.UIAnchorWidget(\n",
    "                anchor_x=\"center_x\",\n",
    "                anchor_y=\"center_y\",\n",
    "                child=self.v_box)\n",
    "        )\n",
    "\n",
    "    def on_click_start(self, event):\n",
    "        self.v_box.getChildren().clear()\n",
    "        arcade.set_background_color(arcade.csscolor.CORNFLOWER_BLUE)\n",
    "        self.buttonlist = []\n",
    "\n",
    "    def on_draw(self):\n",
    "        self.clear()\n",
    "        self.manager.draw()\n",
    "\n",
    "\n",
    "window = MyWindow()\n",
    "arcade.run()"
   ]
  },
  {
   "cell_type": "markdown",
   "id": "ae207623-df57-4275-8072-b380e06aa19f",
   "metadata": {},
   "source": [
    "### "
   ]
  },
  {
   "cell_type": "code",
   "execution_count": null,
   "id": "0210a781-0f8b-4736-8a97-cad20a65083e",
   "metadata": {},
   "outputs": [],
   "source": []
  },
  {
   "cell_type": "code",
   "execution_count": null,
   "id": "82812ee0-9ec5-4353-8ba6-b16054b5c16d",
   "metadata": {},
   "outputs": [],
   "source": []
  }
 ],
 "metadata": {
  "kernelspec": {
   "display_name": "Python 3 (ipykernel)",
   "language": "python",
   "name": "python3"
  },
  "language_info": {
   "codemirror_mode": {
    "name": "ipython",
    "version": 3
   },
   "file_extension": ".py",
   "mimetype": "text/x-python",
   "name": "python",
   "nbconvert_exporter": "python",
   "pygments_lexer": "ipython3",
   "version": "3.11.4"
  }
 },
 "nbformat": 4,
 "nbformat_minor": 5
}
